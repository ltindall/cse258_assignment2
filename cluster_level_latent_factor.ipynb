{
 "cells": [
  {
   "cell_type": "markdown",
   "metadata": {},
   "source": [
    "### Imports"
   ]
  },
  {
   "cell_type": "code",
   "execution_count": 38,
   "metadata": {},
   "outputs": [],
   "source": [
    "from collections import defaultdict\n",
    "import random\n",
    "import numpy as np   \n",
    "import scipy.linalg\n",
    "\n",
    "import matplotlib.pyplot as plt"
   ]
  },
  {
   "cell_type": "markdown",
   "metadata": {},
   "source": [
    "### Read in data"
   ]
  },
  {
   "cell_type": "code",
   "execution_count": 2,
   "metadata": {},
   "outputs": [],
   "source": [
    "def read_txt(filename, start=0, end=100000000):\n",
    "  \n",
    "    u_i = defaultdict(set)\n",
    "    i_u = defaultdict(set)\n",
    "    labels = defaultdict(int)\n",
    "\n",
    "    with open(filename, 'r') as f:\n",
    "        count = 0\n",
    "        for l in f:\n",
    "            if count < start or count >= end:\n",
    "                count += 1\n",
    "                continue\n",
    "\n",
    "            l = l.strip(\"\\n\").split()\n",
    "            u = l[0]\n",
    "            i = l[1]\n",
    "            r = l[2]\n",
    "            u_i[u].add((i,r))\n",
    "            i_u[i].add((u,r))\n",
    "            labels[(u,i)] = r\n",
    "            count += 1\n",
    "\n",
    "    return u_i, i_u, labels\n",
    "\n",
    "#read in all data\n",
    "b_u_i, b_i_u, b_labels = read_txt('books.txt')\n",
    "e_u_i, e_i_u, e_labels = read_txt('electronics.txt')\n",
    "m_u_i, m_i_u, m_labels = read_txt('movies.txt')\n",
    "\n",
    "# get users and items list for all 3 datasets \n",
    "b_users = list(b_u_i.keys())\n",
    "b_items = list(b_i_u.keys())\n",
    "\n",
    "e_users = list(e_u_i.keys())\n",
    "e_items = list(e_i_u.keys())\n",
    "\n",
    "m_users = list(m_u_i.keys())\n",
    "m_items = list(m_i_u.keys())\n",
    "\n",
    "# randomly shuffle users and items \n",
    "random.shuffle(b_users)\n",
    "random.shuffle(b_items)\n",
    "random.shuffle(e_users)\n",
    "random.shuffle(e_items)\n",
    "random.shuffle(m_users)\n",
    "random.shuffle(m_items)\n",
    "\n",
    "# sort users and items by most popular \n",
    "b_u_counts = [(len(b_u_i[u]), str(u)) for u in b_users]\n",
    "b_u_counts.sort(reverse=True)\n",
    "\n",
    "b_i_counts = [(len(b_i_u[i]), i) for i in b_items]\n",
    "b_i_counts.sort(reverse=True)\n",
    "\n",
    "e_u_counts = [(len(e_u_i[u]), u) for u in e_users]\n",
    "e_u_counts.sort(reverse=True)\n",
    "\n",
    "e_i_counts = [(len(e_i_u[i]), i) for i in e_items]\n",
    "e_i_counts.sort(reverse=True)\n",
    "\n",
    "m_u_counts = [(len(m_u_i[u]), u) for u in m_users]\n",
    "m_u_counts.sort(reverse=True)\n",
    "\n",
    "m_i_counts = [(len(m_i_u[i]), i) for i in m_items]\n",
    "m_i_counts.sort(reverse=True)"
   ]
  },
  {
   "cell_type": "markdown",
   "metadata": {},
   "source": [
    "### Create training data "
   ]
  },
  {
   "cell_type": "code",
   "execution_count": 3,
   "metadata": {},
   "outputs": [],
   "source": [
    "M = 1000\n",
    "N = 10000\n",
    "\n",
    "# select 500 most popular users and 1000 most popular items \n",
    "b_u_train = [u[1] for u in b_u_counts[:M]]\n",
    "b_i_train = [i[1] for i in b_i_counts[:N]]\n",
    "e_u_train = [u[1] for u in e_u_counts[:M]]\n",
    "e_i_train = [i[1] for i in e_i_counts[:N]]\n",
    "m_u_train = [u[1] for u in m_u_counts[:M]]\n",
    "m_i_train = [i[1] for i in m_i_counts[:N]]"
   ]
  },
  {
   "cell_type": "markdown",
   "metadata": {},
   "source": [
    "### Ratings matrix & Train/test split "
   ]
  },
  {
   "cell_type": "code",
   "execution_count": 4,
   "metadata": {},
   "outputs": [
    {
     "name": "stdout",
     "output_type": "stream",
     "text": [
      "total number of book (user,item) pairs = 120669\n",
      "total number of electronics (user,item) pairs = 49811\n",
      "total number of movies (user,item) pairs = 216677\n",
      "total number of book (user,item) pairs = 120669\n",
      "book train size count = 96930, percent = 0.803272\n",
      "total number of electronics (user,item) pairs = 49811\n",
      "total number of movies (user,item) pairs = 216677\n"
     ]
    }
   ],
   "source": [
    "# create 0 filled ratings matrices \n",
    "D_b = np.zeros((M,N))\n",
    "D_e = np.zeros((M,N))\n",
    "D_m = np.zeros((M,N))\n",
    "\n",
    "b_pairs = []\n",
    "e_pairs = []\n",
    "m_pairs = []\n",
    "\n",
    "b_user_count = defaultdict(int)\n",
    "e_user_count = defaultdict(int)\n",
    "m_user_count = defaultdict(int)\n",
    "\n",
    "# create user,item rating pairs and populate ratings matrices\n",
    "for a,u in enumerate(b_u_train): \n",
    "    for b,i in enumerate(b_i_train): \n",
    "        if (u,i) in b_labels: \n",
    "            b_pairs.append((u,i, a, b, float(b_labels[(u,i)])))\n",
    "            b_user_count[u] += 1\n",
    "        D_b[a,b] = float(b_labels[(u,i)])\n",
    "        \n",
    "for a,u in enumerate(e_u_train): \n",
    "    for b,i in enumerate(e_i_train): \n",
    "        if (u,i) in e_labels: \n",
    "            e_pairs.append((u,i, a, b, float(e_labels[(u,i)])))\n",
    "            e_user_count[u] += 1\n",
    "        D_e[a,b] = float(e_labels[(u,i)])\n",
    "        \n",
    "for a,u in enumerate(m_u_train): \n",
    "    for b,i in enumerate(m_i_train):\n",
    "        if (u,i) in m_labels: \n",
    "            m_pairs.append((u,i, a, b, float(m_labels[(u,i)])))\n",
    "            m_user_count[u] += 1\n",
    "        D_m[a,b] = float(m_labels[(u,i)])\n",
    "        \n",
    "print(\"total number of book (user,item) pairs = %d\" % (len(b_pairs)))\n",
    "print(\"total number of electronics (user,item) pairs = %d\" % (len(e_pairs)))\n",
    "print(\"total number of movies (user,item) pairs = %d\" % (len(m_pairs)))\n",
    "\n",
    "# randomly shuffle user,item rating pairs \n",
    "random.shuffle(b_pairs)\n",
    "random.shuffle(e_pairs)\n",
    "random.shuffle(m_pairs)\n",
    "\n",
    "b_user_train_count = defaultdict(int)\n",
    "e_user_train_count = defaultdict(int)\n",
    "m_user_train_count = defaultdict(int)\n",
    "\n",
    "b_train_pairs = []\n",
    "b_test_pairs = []\n",
    "\n",
    "e_train_pairs = []\n",
    "e_test_pairs = []\n",
    "\n",
    "m_train_pairs = []\n",
    "m_test_pairs = []\n",
    "\n",
    "for b in b_pairs: \n",
    "    u = b[0]\n",
    "    if b_user_train_count[u] < 0.8*b_user_count[u]: \n",
    "        b_user_train_count[u] += 1\n",
    "        b_train_pairs.append(b)\n",
    "    else: \n",
    "        b_test_pairs.append(b)\n",
    "    \n",
    "for e in e_pairs: \n",
    "    u = e[0]\n",
    "    if e_user_train_count[u] < 0.8*e_user_count[u]: \n",
    "        e_user_train_count[u] += 1\n",
    "        e_train_pairs.append(e)\n",
    "    else: \n",
    "        e_test_pairs.append(e)\n",
    "        \n",
    "for m in m_pairs: \n",
    "    u = m[0]\n",
    "    if m_user_train_count[u] < 0.8*m_user_count[u]: \n",
    "        m_user_train_count[u] += 1\n",
    "        m_train_pairs.append(m)\n",
    "    else: \n",
    "        m_test_pairs.append(m)\n",
    "\n",
    "# split rating pairs into train/test \n",
    "# b_train_pairs = b_pairs[:int(len(b_pairs)*0.8)]\n",
    "# b_test_pairs = b_pairs[int(len(b_pairs)*0.8):]\n",
    "\n",
    "# e_train_pairs = e_pairs[:int(len(e_pairs)*0.8)]\n",
    "# e_test_pairs = e_pairs[int(len(e_pairs)*0.8):]\n",
    "\n",
    "# m_train_pairs = m_pairs[:int(len(m_pairs)*0.8)]\n",
    "# m_test_pairs = m_pairs[int(len(m_pairs)*0.8):]\n",
    "\n",
    "\n",
    "# remove test pair ratings from training rating matrix \n",
    "for b in b_test_pairs:  \n",
    "    D_b[b[2],b[3]] = 0\n",
    "for e in e_test_pairs: \n",
    "    D_e[e[2],e[3]] = 0\n",
    "for m in m_test_pairs: \n",
    "    D_m[m[2],m[3]] = 0\n",
    "    \n",
    "    \n",
    "print(\"total number of book (user,item) pairs = %d\" % (len(b_pairs)))\n",
    "print(\"book train size count = %d, percent = %f\" % (len(b_train_pairs), len(b_train_pairs)/len(b_pairs)))\n",
    "print(\"total number of electronics (user,item) pairs = %d\" % (len(e_pairs)))\n",
    "print(\"total number of movies (user,item) pairs = %d\" % (len(m_pairs)))"
   ]
  },
  {
   "cell_type": "markdown",
   "metadata": {},
   "source": [
    "### Train cluster level latent factor model "
   ]
  },
  {
   "cell_type": "code",
   "execution_count": 45,
   "metadata": {},
   "outputs": [],
   "source": [
    "# calculate mse based on predictions matrix and user,item rating pair \n",
    "def calc_mse(predictions, pairs, unseen_items=None): \n",
    "    error = 0\n",
    "    count = 0\n",
    "    for p in pairs: \n",
    "        error += (predictions[p[2],p[3]] - p[4])**2\n",
    "        \n",
    "        count += 1\n",
    "    mse = error/count\n",
    "    \n",
    "    if unseen_items != None: \n",
    "        u_error = 0\n",
    "        s_error = 0\n",
    "        u_count = 0\n",
    "        s_count = 0\n",
    "        \n",
    "        for p in pairs: \n",
    "            if p[1] in unseen_items: \n",
    "                u_error += (predictions[p[2],p[3]] - p[4])**2\n",
    "                u_count += 1\n",
    "            else: \n",
    "                s_error += (predictions[p[2],p[3]] - p[4])**2\n",
    "                s_count += 1\n",
    "        print(\"seen count = %d, unseen count = %d\" % (s_count, u_count))\n",
    "        print(\"seen mse = %f, unseen mse = %f\" % (s_error/s_count, u_error/u_count))\n",
    "    return mse\n",
    "\n",
    "# train cluster level latent factor model\n",
    "def train(K, L, T, D1, D2, epochs, train_pairs, test_pairs): \n",
    "\n",
    "    # K, number of user clusters\n",
    "    # L, number of item clusters \n",
    "    # T, shared subspace\n",
    "    # D1, ratings from domain 1: M1 x N1 \n",
    "    # D2, ratings from domain 2: M2 x N2 \n",
    "    \n",
    "    # set mask matrices \n",
    "    W1 = (D1!=0).astype(int)\n",
    "    W2 = (D2!=0).astype(int)\n",
    "    \n",
    "    M1 = D1.shape[0] # number of users in domain 1\n",
    "    M2 = D2.shape[0] # number of users in domain 2\n",
    "    N1 = D1.shape[1] # number of items in domain 1\n",
    "    N2 = D1.shape[1] # number of items in domain 2\n",
    "\n",
    "    # item clusters \n",
    "    L1 = L\n",
    "    L2 = L\n",
    "\n",
    "    # randomly initialize U, S, and V\n",
    "    U1 = np.random.rand(M1, K) # M1 x K\n",
    "    U2 = np.random.rand(M2, K) # M2 x K\n",
    "\n",
    "    V1 = np.random.rand(N1, L1) # N1 x L1\n",
    "    V2 = np.random.rand(N2, L2) # N2 x L2 \n",
    "\n",
    "    S0 = np.random.rand(K, T) # K x T\n",
    "    S1 = np.random.rand(K, L1-T) # K x L1-T\n",
    "    S2 = np.random.rand(K, L2-T) # K x L2-T\n",
    "\n",
    "    min_val_mse = 10000\n",
    "    \n",
    "    train_mses = []\n",
    "    val_mses = []\n",
    "    \n",
    "    # train loop \n",
    "    for epoch in range(epochs): \n",
    "        \n",
    "        # S1 update equation \n",
    "        # V11.T is the laste L1-T columns of V1\n",
    "\n",
    "        S1 = S1 * np.sqrt((U1.T.dot(np.multiply(D1,W1)).dot(V1[:,T:]) )/\n",
    "                                     (U1.T.dot(np.multiply(U1.dot(S0).dot(V1[:,:T].T),W1) ).dot(V1[:,T:]) \n",
    "                                      + U1.T.dot(np.multiply(U1.dot(S1).dot(V1[:,T:].T),W1) ).dot(V1[:,T:])))\n",
    "        # S2 update equation \n",
    "        S2 = S2 * np.sqrt((U2.T.dot(np.multiply(D2,W2)).dot(V2[:,T:]) )/\n",
    "                          (U2.T.dot(np.multiply(U2.dot(S0).dot(V2[:,:T].T),W2) ).dot(V2[:,T:]) \n",
    "                                      + U2.T.dot(np.multiply(U2.dot(S2).dot(V2[:,T:].T),W2) ).dot(V2[:,T:])))\n",
    "\n",
    "        # S0 update equation \n",
    "        A = (U1.T.dot(np.multiply(U1.dot(S0).dot(V1[:,:T].T),W1) ).dot(V1[:,:T]) \n",
    "                                      + U1.T.dot(np.multiply(U1.dot(S1).dot(V1[:,T:].T),W1) ).dot(V1[:,:T]))\n",
    "        B = (U2.T.dot(np.multiply(U2.dot(S0).dot(V2[:,:T].T),W2) ).dot(V2[:,:T]) \n",
    "                                      + U2.T.dot(np.multiply(U2.dot(S2).dot(V2[:,T:].T),W2) ).dot(V2[:,:T]))\n",
    "        S0 = S0 * np.sqrt( (U1.T.dot(np.multiply(D1,W1)).dot(V1[:,:T]) ) + (U2.T.dot(np.multiply(D2,W2)).dot(V2[:,:T]) ) / (A+B))\n",
    "\n",
    "        # U1 update equation \n",
    "        a = np.multiply(D1, W1).dot(V1).dot(np.concatenate((S0,S1), axis=1).T)\n",
    "        b = np.multiply(U1.dot(np.concatenate((S0,S1), axis=1)).dot(V1.T),W1).dot(V1).dot(np.concatenate((S0,S1),axis=1).T)\n",
    "        U1 = U1 * np.sqrt(np.divide(a, b, out=np.zeros_like(a), where=b!=0))\n",
    "\n",
    "        # U2 update equation\n",
    "        a = np.multiply(D2, W2).dot(V2).dot(np.concatenate((S0,S2), axis=1).T)\n",
    "        b = np.multiply(U2.dot(np.concatenate((S0,S2), axis=1)).dot(V2.T),W2).dot(V2).dot(np.concatenate((S0,S2),axis=1).T)\n",
    "        U2 = U2 * np.sqrt(np.divide(a, b, out=np.zeros_like(a), where=b!=0))\n",
    "\n",
    "\n",
    "        # V1 update equation \n",
    "        a = np.concatenate((S0,S1),axis=1).T.dot(U1.T).dot(np.multiply(D1,W1))\n",
    "        b = np.concatenate((S0,S1),axis=1).T.dot(U1.T).dot(np.multiply(U1.dot(np.concatenate((S0,S1),axis=1)).dot(V1.T),W1))\n",
    "        V1 = V1 * np.sqrt(np.divide(a,b, out=np.zeros_like(a), where=b!=0)).T\n",
    "\n",
    "        # V2 update equation \n",
    "        a = np.concatenate((S0,S2),axis=1).T.dot(U2.T).dot(np.multiply(D2,W2))\n",
    "        b = np.concatenate((S0,S2),axis=1).T.dot(U2.T).dot(np.multiply(U2.dot(np.concatenate((S0,S2),axis=1)).dot(V2.T),W2))\n",
    "        V2 = V2 * np.sqrt(np.divide(a,b, out=np.zeros_like(a), where=b!=0)).T\n",
    "        \n",
    "        # D1_predictions = U1.dot(np.concatenate((S0,S1), axis=1)).dot(V1.T)\n",
    "        \n",
    "        # make predictions on D2 \n",
    "        D2_predictions = U2.dot(np.concatenate((S0,S2), axis=1)).dot(V2.T)\n",
    "        \n",
    "        # get mse for train and test set \n",
    "        train_mse = calc_mse(D2_predictions, train_pairs)\n",
    "        test_mse = calc_mse(D2_predictions, test_pairs)\n",
    "        \n",
    "        train_mses.append(train_mse)\n",
    "        val_mses.append(test_mse)\n",
    "        \n",
    "        \n",
    "        if test_mse < min_val_mse: \n",
    "            min_val_mse = test_mse \n",
    "        \n",
    "        # report results \n",
    "        print(\"epoch = %d, train mse = %.4f, test mse = %.4f\" % (epoch, train_mse, test_mse))\n",
    "    \n",
    "    plt.figure()\n",
    "    plt.plot(range(len(train_mses)), train_mses)\n",
    "    plt.plot(range(len(val_mses)), val_mses)\n",
    "    plt.ylim(0,1)\n",
    "    plt.show()\n",
    "    return U1, U2, S0, S1, S2, V1, V2"
   ]
  },
  {
   "cell_type": "code",
   "execution_count": 46,
   "metadata": {},
   "outputs": [],
   "source": [
    "K = 10 # user clusters \n",
    "L = 10 # number of item clusters \n",
    "T = 2 # shared subspace \n"
   ]
  },
  {
   "cell_type": "code",
   "execution_count": null,
   "metadata": {},
   "outputs": [
    {
     "name": "stdout",
     "output_type": "stream",
     "text": [
      "epoch = 0, train mse = 123.6774, test mse = 120.2770\n",
      "epoch = 1, train mse = 114.1397, test mse = 111.2129\n",
      "epoch = 2, train mse = 26.8900, test mse = 27.4890\n",
      "epoch = 3, train mse = 4.6159, test mse = 5.9734\n",
      "epoch = 4, train mse = 1.1081, test mse = 2.5095\n",
      "epoch = 5, train mse = 0.6545, test mse = 2.0329\n",
      "epoch = 6, train mse = 0.5996, test mse = 1.9660\n",
      "epoch = 7, train mse = 0.5917, test mse = 1.9544\n",
      "epoch = 8, train mse = 0.5891, test mse = 1.9513\n",
      "epoch = 9, train mse = 0.5873, test mse = 1.9501\n",
      "epoch = 10, train mse = 0.5857, test mse = 1.9492\n",
      "epoch = 11, train mse = 0.5843, test mse = 1.9486\n",
      "epoch = 12, train mse = 0.5829, test mse = 1.9480\n",
      "epoch = 13, train mse = 0.5817, test mse = 1.9474\n",
      "epoch = 14, train mse = 0.5805, test mse = 1.9468\n",
      "epoch = 15, train mse = 0.5793, test mse = 1.9463\n",
      "epoch = 16, train mse = 0.5782, test mse = 1.9458\n",
      "epoch = 17, train mse = 0.5771, test mse = 1.9454\n",
      "epoch = 18, train mse = 0.5761, test mse = 1.9449\n",
      "epoch = 19, train mse = 0.5751, test mse = 1.9446\n"
     ]
    },
    {
     "data": {
      "image/png": "[encoded data removed]",
      "text/plain": [
       "<Figure size 432x288 with 1 Axes>"
      ]
     },
     "metadata": {
      "needs_background": "light"
     },
     "output_type": "display_data"
    },
    {
     "name": "stdout",
     "output_type": "stream",
     "text": [
      "epoch = 0, train mse = 152.6565, test mse = 147.9412\n",
      "epoch = 1, train mse = 131.8658, test mse = 127.9991\n",
      "epoch = 2, train mse = 29.2237, test mse = 29.6352\n",
      "epoch = 3, train mse = 4.7550, test mse = 6.0701\n",
      "epoch = 4, train mse = 1.0692, test mse = 2.4521\n",
      "epoch = 5, train mse = 0.6310, test mse = 1.9959\n"
     ]
    }
   ],
   "source": [
    "U1, U2, S0, S1, S2, V1, V2 = train(K, L, T, D_b, D_e, 20, e_train_pairs, e_test_pairs)\n",
    "U1, U2, S0, S1, S2, V1, V2 = train(K, L, T, D_m, D_e, 20, e_train_pairs, e_test_pairs)"
   ]
  },
  {
   "cell_type": "code",
   "execution_count": 36,
   "metadata": {},
   "outputs": [
    {
     "name": "stdout",
     "output_type": "stream",
     "text": [
      "epoch = 0, train mse = 146.7052, test mse = 145.9310\n",
      "epoch = 1, train mse = 125.3002, test mse = 124.7120\n",
      "epoch = 2, train mse = 27.7154, test mse = 27.8103\n",
      "epoch = 3, train mse = 4.5596, test mse = 4.7956\n",
      "epoch = 4, train mse = 1.0774, test mse = 1.3254\n",
      "epoch = 5, train mse = 0.6314, test mse = 0.8780\n",
      "epoch = 6, train mse = 0.5729, test mse = 0.8186\n",
      "epoch = 7, train mse = 0.5631, test mse = 0.8085\n",
      "epoch = 8, train mse = 0.5602, test mse = 0.8057\n",
      "epoch = 9, train mse = 0.5586, test mse = 0.8042\n",
      "epoch = 10, train mse = 0.5573, test mse = 0.8031\n",
      "epoch = 11, train mse = 0.5562, test mse = 0.8021\n",
      "epoch = 12, train mse = 0.5551, test mse = 0.8012\n",
      "epoch = 13, train mse = 0.5542, test mse = 0.8003\n",
      "epoch = 14, train mse = 0.5533, test mse = 0.7996\n",
      "epoch = 15, train mse = 0.5524, test mse = 0.7988\n",
      "epoch = 16, train mse = 0.5516, test mse = 0.7981\n",
      "epoch = 17, train mse = 0.5509, test mse = 0.7975\n",
      "epoch = 18, train mse = 0.5502, test mse = 0.7969\n",
      "epoch = 19, train mse = 0.5495, test mse = 0.7963\n",
      "epoch = 0, train mse = 99.4920, test mse = 99.7410\n",
      "epoch = 1, train mse = 82.9166, test mse = 83.0454\n",
      "epoch = 2, train mse = 20.0059, test mse = 20.2334\n",
      "epoch = 3, train mse = 3.7473, test mse = 4.0024\n",
      "epoch = 4, train mse = 1.1002, test mse = 1.3527\n",
      "epoch = 5, train mse = 0.6898, test mse = 0.9394\n",
      "epoch = 6, train mse = 0.6071, test mse = 0.8554\n",
      "epoch = 7, train mse = 0.5823, test mse = 0.8301\n",
      "epoch = 8, train mse = 0.5717, test mse = 0.8192\n",
      "epoch = 9, train mse = 0.5659, test mse = 0.8133\n",
      "epoch = 10, train mse = 0.5623, test mse = 0.8096\n",
      "epoch = 11, train mse = 0.5599, test mse = 0.8071\n",
      "epoch = 12, train mse = 0.5582, test mse = 0.8053\n",
      "epoch = 13, train mse = 0.5569, test mse = 0.8040\n",
      "epoch = 14, train mse = 0.5558, test mse = 0.8029\n",
      "epoch = 15, train mse = 0.5549, test mse = 0.8020\n",
      "epoch = 16, train mse = 0.5542, test mse = 0.8013\n",
      "epoch = 17, train mse = 0.5535, test mse = 0.8006\n",
      "epoch = 18, train mse = 0.5530, test mse = 0.8001\n",
      "epoch = 19, train mse = 0.5524, test mse = 0.7996\n"
     ]
    }
   ],
   "source": [
    "U1, U2, S0, S1, S2, V1, V2 = train(K, L, T, D_m, D_b, 20, b_train_pairs, b_test_pairs)\n",
    "U1, U2, S0, S1, S2, V1, V2 = train(K, L, T, D_e, D_b, 20, b_train_pairs, b_test_pairs)"
   ]
  },
  {
   "cell_type": "code",
   "execution_count": 37,
   "metadata": {},
   "outputs": [
    {
     "name": "stdout",
     "output_type": "stream",
     "text": [
      "epoch = 0, train mse = 113.9956, test mse = 113.4179\n",
      "epoch = 1, train mse = 97.7454, test mse = 97.6504\n",
      "epoch = 2, train mse = 22.7359, test mse = 22.8950\n",
      "epoch = 3, train mse = 4.1601, test mse = 4.3208\n",
      "epoch = 4, train mse = 1.2698, test mse = 1.4154\n",
      "epoch = 5, train mse = 0.8562, test mse = 0.9952\n",
      "epoch = 6, train mse = 0.7829, test mse = 0.9196\n",
      "epoch = 7, train mse = 0.7640, test mse = 0.8998\n",
      "epoch = 8, train mse = 0.7570, test mse = 0.8923\n",
      "epoch = 9, train mse = 0.7536, test mse = 0.8886\n",
      "epoch = 10, train mse = 0.7517, test mse = 0.8865\n",
      "epoch = 11, train mse = 0.7505, test mse = 0.8852\n",
      "epoch = 12, train mse = 0.7497, test mse = 0.8843\n",
      "epoch = 13, train mse = 0.7492, test mse = 0.8837\n",
      "epoch = 14, train mse = 0.7488, test mse = 0.8833\n",
      "epoch = 15, train mse = 0.7485, test mse = 0.8829\n",
      "epoch = 16, train mse = 0.7482, test mse = 0.8827\n",
      "epoch = 17, train mse = 0.7480, test mse = 0.8825\n",
      "epoch = 18, train mse = 0.7479, test mse = 0.8823\n",
      "epoch = 19, train mse = 0.7477, test mse = 0.8822\n",
      "epoch = 0, train mse = 83.6941, test mse = 83.8408\n",
      "epoch = 1, train mse = 75.5635, test mse = 75.8251\n",
      "epoch = 2, train mse = 19.0129, test mse = 19.2272\n",
      "epoch = 3, train mse = 3.8188, test mse = 3.9896\n",
      "epoch = 4, train mse = 1.3054, test mse = 1.4570\n",
      "epoch = 5, train mse = 0.9051, test mse = 1.0504\n",
      "epoch = 6, train mse = 0.8197, test mse = 0.9628\n",
      "epoch = 7, train mse = 0.7919, test mse = 0.9342\n",
      "epoch = 8, train mse = 0.7790, test mse = 0.9209\n",
      "epoch = 9, train mse = 0.7715, test mse = 0.9131\n",
      "epoch = 10, train mse = 0.7667, test mse = 0.9080\n",
      "epoch = 11, train mse = 0.7632, test mse = 0.9043\n",
      "epoch = 12, train mse = 0.7606, test mse = 0.9016\n",
      "epoch = 13, train mse = 0.7586, test mse = 0.8995\n",
      "epoch = 14, train mse = 0.7570, test mse = 0.8978\n",
      "epoch = 15, train mse = 0.7556, test mse = 0.8965\n",
      "epoch = 16, train mse = 0.7545, test mse = 0.8953\n",
      "epoch = 17, train mse = 0.7535, test mse = 0.8943\n",
      "epoch = 18, train mse = 0.7526, test mse = 0.8934\n",
      "epoch = 19, train mse = 0.7518, test mse = 0.8927\n"
     ]
    }
   ],
   "source": [
    "U1, U2, S0, S1, S2, V1, V2 = train(K, L, T, D_b, D_m, 20, m_train_pairs, m_test_pairs)\n",
    "U1, U2, S0, S1, S2, V1, V2 = train(K, L, T, D_e, D_m, 20, m_train_pairs, m_test_pairs)"
   ]
  },
  {
   "cell_type": "code",
   "execution_count": 11,
   "metadata": {},
   "outputs": [
    {
     "name": "stdout",
     "output_type": "stream",
     "text": [
      "seen count = 42864, unseen count = 75\n",
      "seen mse = 0.848258, unseen mse = 19.573333\n",
      "test mse = 0.8810\n"
     ]
    }
   ],
   "source": [
    "\n",
    "b_i_train_seen = set()\n",
    "\n",
    "for b in b_train_pairs: \n",
    "    b_i_train_seen.add(b[1])\n",
    "    \n",
    "b_i_test_seen = set()\n",
    "\n",
    "for b in b_test_pairs: \n",
    "    b_i_test_seen.add(b[1])\n",
    "    \n",
    "b_i_unseen = b_i_test_seen.difference(b_i_train_seen)\n",
    "\n",
    "\n",
    "\n",
    "m_i_train_seen = set()\n",
    "\n",
    "for m in m_train_pairs: \n",
    "    m_i_train_seen.add(m[1])\n",
    "    \n",
    "m_i_test_seen = set()\n",
    "\n",
    "for m in m_test_pairs: \n",
    "    m_i_test_seen.add(m[1])\n",
    "    \n",
    "m_i_unseen = m_i_test_seen.difference(m_i_train_seen)\n",
    "\n",
    "\n",
    "\n",
    "\n",
    "D2_predictions = U2.dot(np.concatenate((S0,S2), axis=1)).dot(V2.T)\n",
    "        \n",
    "# get mse for train and test set \n",
    "#train_mse = calc_mse(D2_predictions, train_pairs)\n",
    "test_mse = calc_mse(D2_predictions, m_test_pairs, m_i_unseen)\n",
    "\n",
    "# report results \n",
    "print(\"test mse = %.4f\" % (test_mse))"
   ]
  },
  {
   "cell_type": "code",
   "execution_count": 12,
   "metadata": {},
   "outputs": [
    {
     "name": "stdout",
     "output_type": "stream",
     "text": [
      "55\n",
      "9826\n"
     ]
    }
   ],
   "source": [
    "print(len(m_i_unseen))\n",
    "print(len(m_i_train_seen))"
   ]
  },
  {
   "cell_type": "code",
   "execution_count": 13,
   "metadata": {},
   "outputs": [],
   "source": [
    "m_i_union = m_i_test_seen.union(m_i_train_seen)"
   ]
  },
  {
   "cell_type": "code",
   "execution_count": 14,
   "metadata": {},
   "outputs": [
    {
     "name": "stdout",
     "output_type": "stream",
     "text": [
      "9881\n"
     ]
    }
   ],
   "source": [
    "print(len(m_i_union))"
   ]
  },
  {
   "cell_type": "code",
   "execution_count": 15,
   "metadata": {},
   "outputs": [
    {
     "name": "stdout",
     "output_type": "stream",
     "text": [
      "96930\n",
      "23739\n",
      "173738\n",
      "42939\n",
      "40261\n",
      "9550\n"
     ]
    }
   ],
   "source": [
    "print(len(b_train_pairs))\n",
    "print(len(b_test_pairs))\n",
    "\n",
    "print(len(m_train_pairs))\n",
    "print(len(m_test_pairs))\n",
    "\n",
    "print(len(e_train_pairs))\n",
    "print(len(e_test_pairs))"
   ]
  },
  {
   "cell_type": "code",
   "execution_count": 16,
   "metadata": {},
   "outputs": [],
   "source": [
    "a = len(m_i_train_seen.difference(m_i_test_seen))\n",
    "b = len(m_i_train_seen.intersection(m_i_test_seen))\n",
    "c = len(m_i_test_seen.difference(m_i_train_seen))"
   ]
  },
  {
   "cell_type": "code",
   "execution_count": 17,
   "metadata": {},
   "outputs": [],
   "source": [
    "a = len(b_i_train_seen.difference(b_i_test_seen))\n",
    "b = len(b_i_train_seen.intersection(b_i_test_seen))\n",
    "c = len(b_i_test_seen.difference(b_i_train_seen))"
   ]
  },
  {
   "cell_type": "code",
   "execution_count": 18,
   "metadata": {},
   "outputs": [
    {
     "name": "stdout",
     "output_type": "stream",
     "text": [
      "2011\n",
      "7539\n",
      "117\n",
      "9667\n"
     ]
    }
   ],
   "source": [
    "print(a)\n",
    "print(b)\n",
    "print(c)\n",
    "print(a+b+c)"
   ]
  },
  {
   "cell_type": "code",
   "execution_count": 19,
   "metadata": {},
   "outputs": [
    {
     "name": "stdout",
     "output_type": "stream",
     "text": [
      "seen count = 23591, unseen count = 148\n",
      "seen mse = 1.720318, unseen mse = 1.866233\n",
      "test mse = 1.7212\n"
     ]
    }
   ],
   "source": [
    "D2_predictions = U2.dot(np.concatenate((S0,S2), axis=1)).dot(V2.T)\n",
    "        \n",
    "# get mse for train and test set \n",
    "#train_mse = calc_mse(D2_predictions, train_pairs)\n",
    "test_mse = calc_mse(D2_predictions, b_test_pairs, b_i_unseen)\n",
    "\n",
    "# report results \n",
    "print(\"test mse = %.4f\" % (test_mse))"
   ]
  },
  {
   "cell_type": "code",
   "execution_count": 20,
   "metadata": {},
   "outputs": [
    {
     "name": "stdout",
     "output_type": "stream",
     "text": [
      "9550\n",
      "7656\n"
     ]
    }
   ],
   "source": [
    "print(len(b_i_train_seen))\n",
    "print(len(b_i_test_seen))"
   ]
  },
  {
   "cell_type": "code",
   "execution_count": null,
   "metadata": {},
   "outputs": [],
   "source": [
    "147/23592"
   ]
  },
  {
   "cell_type": "code",
   "execution_count": null,
   "metadata": {},
   "outputs": [],
   "source": [
    "print(len(b_test_pairs))"
   ]
  },
  {
   "cell_type": "code",
   "execution_count": null,
   "metadata": {},
   "outputs": [],
   "source": []
  }
 ],
 "metadata": {
  "kernelspec": {
   "display_name": "Python 3",
   "language": "python",
   "name": "python3"
  },
  "language_info": {
   "codemirror_mode": {
    "name": "ipython",
    "version": 3
   },
   "file_extension": ".py",
   "mimetype": "text/x-python",
   "name": "python",
   "nbconvert_exporter": "python",
   "pygments_lexer": "ipython3",
   "version": "3.7.0"
  }
 },
 "nbformat": 4,
 "nbformat_minor": 2
}
